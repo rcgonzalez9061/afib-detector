{
 "cells": [
  {
   "cell_type": "markdown",
   "id": "f3e0ba2f-4e4a-41d0-ae67-9b577c0f9f68",
   "metadata": {},
   "source": [
    "# Research\n",
    "\n",
    "- [Atrial Fibrillation - CDC](https://www.cdc.gov/heartdisease/atrial_fibrillation.htm)\n",
    "- [Atrial Flutter - Mayo Clinic](https://www.mayoclinic.org/diseases-conditions/atrial-flutter/symptoms-causes/syc-20352586)\n",
    "- [AV Junctional Rhythm](https://en.wikipedia.org/wiki/Junctional_escape_beat)\n",
    "- [EKG - Mayo Clinic](https://www.mayoclinic.org/tests-procedures/ekg/about/pac-20384983)\n",
    "- [Electrocardiography - Wikipedia](https://en.wikipedia.org/wiki/Electrocardiography#Rate_and_rhythm)\n",
    "- [Detection of Atrial Fibrillation Using 1D Convolutional Neural Network (Hsieh 2020)](https://www.ncbi.nlm.nih.gov/pmc/articles/PMC7180882/)\n",
    "- []()\n"
   ]
  },
  {
   "cell_type": "markdown",
   "id": "619dcef0-0174-48eb-9ea7-4eb692bd5b94",
   "metadata": {},
   "source": [
    "## Hsieh 2020\n",
    "- Worked with [PhysioNet Challenge 2017](https://physionet.org/content/challenge-2017/1.0.0/) data\n",
    "    - Recording lengths varied from 9s to 61s\n",
    "- Proposed length normalization technique to make each sample the same length\n",
    "- 50% overlap between samples"
   ]
  },
  {
   "cell_type": "code",
   "execution_count": null,
   "id": "0b08d83c-cdac-48cc-94a6-1fc4b2ea5e96",
   "metadata": {},
   "outputs": [],
   "source": []
  }
 ],
 "metadata": {
  "kernelspec": {
   "display_name": "Python 3",
   "language": "python",
   "name": "python3"
  },
  "language_info": {
   "codemirror_mode": {
    "name": "ipython",
    "version": 3
   },
   "file_extension": ".py",
   "mimetype": "text/x-python",
   "name": "python",
   "nbconvert_exporter": "python",
   "pygments_lexer": "ipython3",
   "version": "3.8.10"
  }
 },
 "nbformat": 4,
 "nbformat_minor": 5
}

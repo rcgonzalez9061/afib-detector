{
 "cells": [
  {
   "cell_type": "markdown",
   "id": "f21edf70-cd26-4bc9-801a-b1ea507ad924",
   "metadata": {},
   "source": [
    "## Hyperparameter Tuning with Optuna"
   ]
  },
  {
   "cell_type": "code",
   "execution_count": null,
   "id": "fac7a7b7-869c-427b-bd60-48f7c71c0925",
   "metadata": {},
   "outputs": [],
   "source": [
    "import os\n",
    "os.chdir('/home/roobz/Jupyter/afib-detector/src/')"
   ]
  },
  {
   "cell_type": "code",
   "execution_count": null,
   "id": "8f1b09cb-427d-4279-9e2f-bb7508ed6496",
   "metadata": {},
   "outputs": [],
   "source": [
    "from __future__ import print_function\n",
    "import argparse\n",
    "import torch\n",
    "import torch.nn as nn\n",
    "import torch.nn.functional as F\n",
    "import torch.optim as optim\n",
    "from torchvision import datasets, transforms\n",
    "from torch.optim.lr_scheduler import StepLR, ReduceLROnPlateau\n",
    "\n",
    "from eda import load_label_map\n",
    "import random\n",
    "import pandas as pd\n",
    "import numpy as np\n",
    "import optuna\n",
    "\n",
    "from model import Afib_CNN, epoch_train, epoch_test, save_model\n",
    "from dataset import load_train_test_datasets\n",
    "\n",
    "%load_ext autoreload\n",
    "%autoreload 2"
   ]
  },
  {
   "cell_type": "code",
   "execution_count": null,
   "id": "32ed37d5-9bf8-4df5-a78d-d4f2ddabc8b1",
   "metadata": {},
   "outputs": [],
   "source": [
    "data_folder = '../data/physionet/afdb/'\n",
    "window_size = 2500\n",
    "model_train_kwargs = {\n",
    "    'train_size': 100000,\n",
    "    'batch_size': 64,\n",
    "}\n",
    "model_test_kwargs = {\n",
    "    'test_size': 25000,\n",
    "    'test_batch_size': 1000\n",
    "}\n",
    "device = torch.device(\"cuda\") if torch.cuda.is_available() else torch.device(\"cpu\")\n",
    "train_dataset, test_dataset = load_train_test_datasets(\n",
    "    window_size,\n",
    "    model_train_kwargs['train_size'],\n",
    "    model_test_kwargs['test_size'],\n",
    "    random_seed=42\n",
    ")"
   ]
  },
  {
   "cell_type": "code",
   "execution_count": null,
   "id": "bddaada0-760f-4168-8b0f-8b80b54b38b7",
   "metadata": {},
   "outputs": [],
   "source": [
    "def objective(trial):\n",
    "    gamma = 1 #trial.suggest_loguniform(\"gamma\", 1e-5, 1-1e-10)\n",
    "    lr = trial.suggest_loguniform(\"lr\", 1e-5, 1)\n",
    "    weight_decay = trial.suggest_uniform(\"weight_decay\", 0, 1)\n",
    "    \n",
    "    model = define_model(trial)\n",
    "    optimizer = optim.Adadelta(model.parameters(), lr=lr)\n",
    "    scheduler = StepLR(optimizer, step_size=1, gamma=gamma)\n",
    "#     scheduler = ReduceLROnPlateau(optimizer, mode='min', patience = 10) \n",
    "\n",
    "    \n",
    "    epochs = 10\n",
    "    result = None\n",
    "    for epoch in range(1, epochs+1):\n",
    "        epoch_train(model, device, train_dataset, optimizer, epoch, **model_train_kwargs)\n",
    "        acc, avg_loss = epoch_test(model, device, test_dataset, **model_test_kwargs)\n",
    "        scheduler.step()\n",
    "        result = avg_loss\n",
    "        trial.report(result, epoch)\n",
    "        \n",
    "        # Handle pruning based on the intermediate value.\n",
    "        if trial.should_prune():\n",
    "            raise optuna.exceptions.TrialPruned()\n",
    "        \n",
    "    return result\n",
    "    \n",
    "\n",
    "def define_model(trial):\n",
    "    repeat_layers = 1 #trial.suggest_int('repeat_layers', 1, 4)\n",
    "    model = Afib_CNN(2500, 2, repeat_layers).to(device)\n",
    "    return model"
   ]
  },
  {
   "cell_type": "code",
   "execution_count": null,
   "id": "bf99e816-07a6-4181-94c3-938c74f255a0",
   "metadata": {},
   "outputs": [],
   "source": [
    "study = optuna.create_study(direction='minimize')\n",
    "study.optimize(objective, n_trials=100)\n",
    "\n",
    "pruned_trials = [t for t in study.trials if t.state == optuna.structs.TrialState.PRUNED]\n",
    "complete_trials = [t for t in study.trials if t.state == optuna.structs.TrialState.COMPLETE]"
   ]
  },
  {
   "cell_type": "code",
   "execution_count": null,
   "id": "7fae1f07-9f28-4413-a679-42e19d07745f",
   "metadata": {},
   "outputs": [],
   "source": [
    "print(\"Study statistics: \")\n",
    "print(\"  Number of finished trials: \", len(study.trials))\n",
    "print(\"  Number of pruned trials: \", len(pruned_trials))\n",
    "print(\"  Number of complete trials: \", len(complete_trials))\n",
    "\n",
    "print(\"Best trial:\")\n",
    "best_trial = study.best_trial\n",
    "\n",
    "print(\"  Value: \", best_trial.value)\n",
    "\n",
    "print(\"  Params: \")\n",
    "for key, value in best_trial.params.items():\n",
    "    print(\"    {}: {}\".format(key, value))\n",
    "\n",
    "    \n",
    "model, training_record = train_model(\n",
    "    study.best_params, \n",
    "    epochs=150)"
   ]
  },
  {
   "cell_type": "code",
   "execution_count": null,
   "id": "1e2ea2bb-8805-4e3b-8be6-bae022f29a1f",
   "metadata": {},
   "outputs": [],
   "source": [
    "pd.DataFrame(\n",
    "    data=[(trial.value, trial.params) for trial in study.trials],\n",
    "    columns=['acc', 'params']\n",
    ").sort_values('acc', ascending=False).to_pickle('../data/cleaned/hyperparameter_optimization.pkl')"
   ]
  },
  {
   "cell_type": "code",
   "execution_count": null,
   "id": "2ad46c5b-add9-4618-8aa5-5bc78c0dca3b",
   "metadata": {},
   "outputs": [],
   "source": []
  },
  {
   "cell_type": "code",
   "execution_count": null,
   "id": "0d4219a5-3a7c-4c86-8630-f9d8469ef7ea",
   "metadata": {},
   "outputs": [],
   "source": []
  }
 ],
 "metadata": {
  "kernelspec": {
   "display_name": "Python 3",
   "language": "python",
   "name": "python3"
  },
  "language_info": {
   "codemirror_mode": {
    "name": "ipython",
    "version": 3
   },
   "file_extension": ".py",
   "mimetype": "text/x-python",
   "name": "python",
   "nbconvert_exporter": "python",
   "pygments_lexer": "ipython3",
   "version": "3.8.10"
  }
 },
 "nbformat": 4,
 "nbformat_minor": 5
}

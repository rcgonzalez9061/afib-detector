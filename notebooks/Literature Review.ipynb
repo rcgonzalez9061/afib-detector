{
 "cells": [
  {
   "cell_type": "markdown",
   "id": "f3e0ba2f-4e4a-41d0-ae67-9b577c0f9f68",
   "metadata": {},
   "source": [
    "# Literature Review\n",
    "\n",
    "- [Atrial Fibrillation - CDC](https://www.cdc.gov/heartdisease/atrial_fibrillation.htm)\n",
    "- [Atrial Flutter - Mayo Clinic](https://www.mayoclinic.org/diseases-conditions/atrial-flutter/symptoms-causes/syc-20352586)\n",
    "- [AV Junctional Rhythm](https://en.wikipedia.org/wiki/Junctional_escape_beat)\n",
    "- [EKG - Mayo Clinic](https://www.mayoclinic.org/tests-procedures/ekg/about/pac-20384983)\n",
    "- [Electrocardiography - Wikipedia](https://en.wikipedia.org/wiki/Electrocardiography#Rate_and_rhythm)\n",
    "- []()\n"
   ]
  },
  {
   "cell_type": "code",
   "execution_count": null,
   "id": "9d79f3e6-cd2e-4ef2-9f26-0872c161386d",
   "metadata": {},
   "outputs": [],
   "source": []
  }
 ],
 "metadata": {
  "kernelspec": {
   "display_name": "Python 3",
   "language": "python",
   "name": "python3"
  },
  "language_info": {
   "codemirror_mode": {
    "name": "ipython",
    "version": 3
   },
   "file_extension": ".py",
   "mimetype": "text/x-python",
   "name": "python",
   "nbconvert_exporter": "python",
   "pygments_lexer": "ipython3",
   "version": "3.8.10"
  }
 },
 "nbformat": 4,
 "nbformat_minor": 5
}

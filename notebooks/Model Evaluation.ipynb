{
 "cells": [
  {
   "cell_type": "code",
   "execution_count": 1,
   "id": "f09ba9ff-6496-46b1-b938-289a3b2d1e4a",
   "metadata": {},
   "outputs": [],
   "source": [
    "import os\n",
    "os.chdir('/home/roobz/Jupyter/afib-detector/src/')"
   ]
  },
  {
   "cell_type": "code",
   "execution_count": 2,
   "id": "66e6a036-e8ab-4bb3-b22f-5e63a3cfc04c",
   "metadata": {},
   "outputs": [],
   "source": [
    "import pandas as pd\n",
    "from sklearn.metrics import accuracy_score, f1_score, roc_auc_score\n",
    "import glob\n",
    "from pathlib import Path\n",
    "from IPython.display import display_html, Image, display, HTML\n",
    "\n",
    "from evaluate import get_performance_tables\n",
    "\n",
    "%load_ext autoreload\n",
    "%autoreload 2"
   ]
  },
  {
   "cell_type": "markdown",
   "id": "b9190106-7134-4ba3-9084-7be8f956a69b",
   "metadata": {},
   "source": [
    "## ETL Pipeline\n",
    "\n",
    "To split the data into 10-second labeled samples with 3-fold cross-validation, I extracted each unique occurance of an annotation and noted the record it came from, when the occurance began, and when it ended. Then I discarded any occurances less than 30s (3x the expected length) and split each occurance into 3 smaller, equally-sized signals and randomly one-to-one mapped each to a fold. From here, the subsamples were further split into 10 second slices with a 50% overlap between each, discarding any excess. This resulted in 54,989 samples (22,020 AFIB, 32,969 N) per fold. \n",
    "\n",
    "## Models and Training\n",
    "When considering what type model to apply to this problem, I immediately jumped to Convolutional Neural Networks. CNNs have proven themselves as very capable signal classifiers in various other tasks, so I thought that they should be my go-to answer for this problem. However, the exact architecture of a CNN can vary widely so I've compared various designs in this project. The only common elements for the models is that they each take 10-second, 2-lead ECGs as their input and output a prediction of Normal Sinus Rhythym (0) or AFib (1).\n",
    "\n",
    "To generate a baseline I used two models: First a 1-D variation of the Pytorch MobileNetV2 implementation and second the model described in Hsieh et. al, 2020. I also created a self-made CNN (though admittedly I have very little experience with them).\n",
    "To train a model, I held out one fold for validation and trained on the remaining data and repeated this for each model and fold.\n",
    "\n",
    "### Ensembles\n",
    "Lastly, I grouped each fold by architecture into ensembles by averaging their outputs (without performing any further training). I then evaluated the ensembles on the entire dataset to determine if averaging outputs was an effective approach for merging the various models together."
   ]
  },
  {
   "cell_type": "code",
   "execution_count": 3,
   "id": "65b391f0-8d17-4486-b03d-6b64da88cc1c",
   "metadata": {},
   "outputs": [
    {
     "data": {
      "text/html": [
       "\n",
       "<style>\n",
       ".level0 {\n",
       "    text-align: center !important;\n",
       "}\n",
       "\n",
       "#ind_model_perf {\n",
       "    margin: auto !important;\n",
       "    display: flex;\n",
       "    justify-content: center;\n",
       "}\n",
       "</style>\n"
      ],
      "text/plain": [
       "<IPython.core.display.HTML object>"
      ]
     },
     "metadata": {},
     "output_type": "display_data"
    },
    {
     "data": {
      "text/html": [
       "<div id='ind_model_perf'><style  type=\"text/css\" >\n",
       "</style><table id=\"T_dbda4_\" ><caption>Individual Model Performance</caption><thead>    <tr>        <th class=\"index_name level0\" >Model</th>        <th class=\"col_heading level0 col0\" colspan=\"3\">Custom</th>        <th class=\"col_heading level0 col3\" colspan=\"3\">Hsieh</th>        <th class=\"col_heading level0 col6\" colspan=\"3\">MobileNetV2</th>    </tr>    <tr>        <th class=\"blank level1\" ></th>        <th class=\"col_heading level1 col0\" >AUC</th>        <th class=\"col_heading level1 col1\" >Accuracy</th>        <th class=\"col_heading level1 col2\" >F1 Score</th>        <th class=\"col_heading level1 col3\" >AUC</th>        <th class=\"col_heading level1 col4\" >Accuracy</th>        <th class=\"col_heading level1 col5\" >F1 Score</th>        <th class=\"col_heading level1 col6\" >AUC</th>        <th class=\"col_heading level1 col7\" >Accuracy</th>        <th class=\"col_heading level1 col8\" >F1 Score</th>    </tr>    <tr>        <th class=\"index_name level0\" >Fold</th>        <th class=\"blank\" ></th>        <th class=\"blank\" ></th>        <th class=\"blank\" ></th>        <th class=\"blank\" ></th>        <th class=\"blank\" ></th>        <th class=\"blank\" ></th>        <th class=\"blank\" ></th>        <th class=\"blank\" ></th>        <th class=\"blank\" ></th>    </tr></thead><tbody>\n",
       "                <tr>\n",
       "                        <th id=\"T_dbda4_level0_row0\" class=\"row_heading level0 row0\" >1</th>\n",
       "                        <td id=\"T_dbda4_row0_col0\" class=\"data row0 col0\" >0.9997</td>\n",
       "                        <td id=\"T_dbda4_row0_col1\" class=\"data row0 col1\" >0.9943</td>\n",
       "                        <td id=\"T_dbda4_row0_col2\" class=\"data row0 col2\" >0.9929</td>\n",
       "                        <td id=\"T_dbda4_row0_col3\" class=\"data row0 col3\" >0.9997</td>\n",
       "                        <td id=\"T_dbda4_row0_col4\" class=\"data row0 col4\" >0.9949</td>\n",
       "                        <td id=\"T_dbda4_row0_col5\" class=\"data row0 col5\" >0.9937</td>\n",
       "                        <td id=\"T_dbda4_row0_col6\" class=\"data row0 col6\" >0.9997</td>\n",
       "                        <td id=\"T_dbda4_row0_col7\" class=\"data row0 col7\" >0.9959</td>\n",
       "                        <td id=\"T_dbda4_row0_col8\" class=\"data row0 col8\" >0.9949</td>\n",
       "            </tr>\n",
       "            <tr>\n",
       "                        <th id=\"T_dbda4_level0_row1\" class=\"row_heading level0 row1\" >2</th>\n",
       "                        <td id=\"T_dbda4_row1_col0\" class=\"data row1 col0\" >0.9993</td>\n",
       "                        <td id=\"T_dbda4_row1_col1\" class=\"data row1 col1\" >0.9930</td>\n",
       "                        <td id=\"T_dbda4_row1_col2\" class=\"data row1 col2\" >0.9913</td>\n",
       "                        <td id=\"T_dbda4_row1_col3\" class=\"data row1 col3\" >0.9997</td>\n",
       "                        <td id=\"T_dbda4_row1_col4\" class=\"data row1 col4\" >0.9952</td>\n",
       "                        <td id=\"T_dbda4_row1_col5\" class=\"data row1 col5\" >0.9940</td>\n",
       "                        <td id=\"T_dbda4_row1_col6\" class=\"data row1 col6\" >0.9997</td>\n",
       "                        <td id=\"T_dbda4_row1_col7\" class=\"data row1 col7\" >0.9951</td>\n",
       "                        <td id=\"T_dbda4_row1_col8\" class=\"data row1 col8\" >0.9939</td>\n",
       "            </tr>\n",
       "            <tr>\n",
       "                        <th id=\"T_dbda4_level0_row2\" class=\"row_heading level0 row2\" >3</th>\n",
       "                        <td id=\"T_dbda4_row2_col0\" class=\"data row2 col0\" >0.9989</td>\n",
       "                        <td id=\"T_dbda4_row2_col1\" class=\"data row2 col1\" >0.9904</td>\n",
       "                        <td id=\"T_dbda4_row2_col2\" class=\"data row2 col2\" >0.9879</td>\n",
       "                        <td id=\"T_dbda4_row2_col3\" class=\"data row2 col3\" >0.9998</td>\n",
       "                        <td id=\"T_dbda4_row2_col4\" class=\"data row2 col4\" >0.9943</td>\n",
       "                        <td id=\"T_dbda4_row2_col5\" class=\"data row2 col5\" >0.9930</td>\n",
       "                        <td id=\"T_dbda4_row2_col6\" class=\"data row2 col6\" >0.9998</td>\n",
       "                        <td id=\"T_dbda4_row2_col7\" class=\"data row2 col7\" >0.9927</td>\n",
       "                        <td id=\"T_dbda4_row2_col8\" class=\"data row2 col8\" >0.9909</td>\n",
       "            </tr>\n",
       "    </tbody></table></div>"
      ]
     },
     "metadata": {},
     "output_type": "display_data"
    }
   ],
   "source": [
    "model_overview, model_agg, merged_model_metrics, metrics_agg = get_performance_tables()\n",
    "\n",
    "model_overview_styler = (\n",
    "    model_overview.style.format(\"{:.4f}\")\n",
    "#     .set_table_attributes(\n",
    "#         \"style='display:inline; margin-right:20px; margin-left: 5%; vertical-align: middle;'\"\n",
    "#     )\n",
    "    .set_caption('Individual Model Performance')\n",
    ")\n",
    "\n",
    "\n",
    "display(HTML(\"\"\"\n",
    "<style>\n",
    ".level0 {\n",
    "    text-align: center !important;\n",
    "}\n",
    "\n",
    "#ind_model_perf {\n",
    "    margin: auto !important;\n",
    "    display: flex;\n",
    "    justify-content: center;\n",
    "}\n",
    "</style>\n",
    "\"\"\"))\n",
    "\n",
    "model_overview_html = f\"<div id='ind_model_perf'>{model_overview_styler._repr_html_()}</div>\"\n",
    "\n",
    "display_html(model_overview_html, raw=True)"
   ]
  },
  {
   "cell_type": "code",
   "execution_count": 4,
   "id": "dfa148ea-023d-489e-a97e-4a478222752c",
   "metadata": {},
   "outputs": [
    {
     "data": {
      "text/html": [
       "\n",
       "    <style>\n",
       "    #perf_table_wrap {\n",
       "        display: flex !important;\n",
       "        justify-content: center;\n",
       "        margin: auto !important;\n",
       "        align-items: center !important;\n",
       "        padding: 10px;\n",
       "    }\n",
       "    </style>\n",
       "\n",
       "    <div id='perf_table_wrap'>\n",
       "    <style  type=\"text/css\" >\n",
       "</style><table id=\"T_0fe77_\" style='margin:10px !important;'><caption>Averaged Performance</caption><thead>    <tr>        <th class=\"blank level0\" ></th>        <th class=\"col_heading level0 col0\" >Accuracy</th>        <th class=\"col_heading level0 col1\" >F1 Score</th>        <th class=\"col_heading level0 col2\" >AUC</th>    </tr>    <tr>        <th class=\"index_name level0\" >Model</th>        <th class=\"blank\" ></th>        <th class=\"blank\" ></th>        <th class=\"blank\" ></th>    </tr></thead><tbody>\n",
       "                <tr>\n",
       "                        <th id=\"T_0fe77_level0_row0\" class=\"row_heading level0 row0\" >Custom</th>\n",
       "                        <td id=\"T_0fe77_row0_col0\" class=\"data row0 col0\" >0.9925</td>\n",
       "                        <td id=\"T_0fe77_row0_col1\" class=\"data row0 col1\" >0.9907</td>\n",
       "                        <td id=\"T_0fe77_row0_col2\" class=\"data row0 col2\" >0.9993</td>\n",
       "            </tr>\n",
       "            <tr>\n",
       "                        <th id=\"T_0fe77_level0_row1\" class=\"row_heading level0 row1\" >Hsieh</th>\n",
       "                        <td id=\"T_0fe77_row1_col0\" class=\"data row1 col0\" >0.9948</td>\n",
       "                        <td id=\"T_0fe77_row1_col1\" class=\"data row1 col1\" >0.9936</td>\n",
       "                        <td id=\"T_0fe77_row1_col2\" class=\"data row1 col2\" >0.9997</td>\n",
       "            </tr>\n",
       "            <tr>\n",
       "                        <th id=\"T_0fe77_level0_row2\" class=\"row_heading level0 row2\" >MobileNetV2</th>\n",
       "                        <td id=\"T_0fe77_row2_col0\" class=\"data row2 col0\" >0.9946</td>\n",
       "                        <td id=\"T_0fe77_row2_col1\" class=\"data row2 col1\" >0.9932</td>\n",
       "                        <td id=\"T_0fe77_row2_col2\" class=\"data row2 col2\" >0.9998</td>\n",
       "            </tr>\n",
       "    </tbody></table><style  type=\"text/css\" >\n",
       "</style><table id=\"T_5d120_\" style='margin:10px; !important;'><caption>Averaged Ensemble Performance</caption><thead>    <tr>        <th class=\"blank level0\" ></th>        <th class=\"col_heading level0 col0\" >Accuracy</th>        <th class=\"col_heading level0 col1\" >F1 Score</th>        <th class=\"col_heading level0 col2\" >AUC</th>    </tr>    <tr>        <th class=\"index_name level0\" >Model</th>        <th class=\"blank\" ></th>        <th class=\"blank\" ></th>        <th class=\"blank\" ></th>    </tr></thead><tbody>\n",
       "                <tr>\n",
       "                        <th id=\"T_5d120_level0_row0\" class=\"row_heading level0 row0\" >Custom</th>\n",
       "                        <td id=\"T_5d120_row0_col0\" class=\"data row0 col0\" >0.9938</td>\n",
       "                        <td id=\"T_5d120_row0_col1\" class=\"data row0 col1\" >0.9922</td>\n",
       "                        <td id=\"T_5d120_row0_col2\" class=\"data row0 col2\" >0.9994</td>\n",
       "            </tr>\n",
       "            <tr>\n",
       "                        <th id=\"T_5d120_level0_row1\" class=\"row_heading level0 row1\" >Hsieh</th>\n",
       "                        <td id=\"T_5d120_row1_col0\" class=\"data row1 col0\" >0.9956</td>\n",
       "                        <td id=\"T_5d120_row1_col1\" class=\"data row1 col1\" >0.9945</td>\n",
       "                        <td id=\"T_5d120_row1_col2\" class=\"data row1 col2\" >0.9998</td>\n",
       "            </tr>\n",
       "            <tr>\n",
       "                        <th id=\"T_5d120_level0_row2\" class=\"row_heading level0 row2\" >MobileNetV2</th>\n",
       "                        <td id=\"T_5d120_row2_col0\" class=\"data row2 col0\" >0.9963</td>\n",
       "                        <td id=\"T_5d120_row2_col1\" class=\"data row2 col1\" >0.9954</td>\n",
       "                        <td id=\"T_5d120_row2_col2\" class=\"data row2 col2\" >0.9999</td>\n",
       "            </tr>\n",
       "    </tbody></table></div>"
      ]
     },
     "metadata": {},
     "output_type": "display_data"
    }
   ],
   "source": [
    "model_agg_styler = (\n",
    "    model_agg.style.format(\"{:.4f}\")\n",
    "    .set_table_attributes(\n",
    "        \"style='margin:10px !important;'\"\n",
    "    )\n",
    "    .set_caption('Averaged Performance')\n",
    ")\n",
    "merged_model_metrics_styler = (\n",
    "    merged_model_metrics.style.format(\"{:.4f}\")\n",
    "    .set_table_attributes(\n",
    "        \"style='margin:10px; !important;'\"\n",
    "    )\n",
    "    .set_caption('Averaged Ensemble Performance')\n",
    ")\n",
    "\n",
    "perf_html = model_agg_styler._repr_html_()+merged_model_metrics_styler._repr_html_()\n",
    "perf_html = (\n",
    "    '''\n",
    "    <style>\n",
    "    #perf_table_wrap {\n",
    "        display: flex !important;\n",
    "        justify-content: center;\n",
    "        margin: auto !important;\n",
    "        align-items: center !important;\n",
    "        padding: 10px;\n",
    "    }\n",
    "    </style>\n",
    "\n",
    "    <div id='perf_table_wrap'>\n",
    "    ''' +\n",
    "    perf_html +\n",
    "    '</div>'\n",
    ")\n",
    "\n",
    "display_html(perf_html, raw=True)"
   ]
  }
 ],
 "metadata": {
  "kernelspec": {
   "display_name": "Python 3",
   "language": "python",
   "name": "python3"
  },
  "language_info": {
   "codemirror_mode": {
    "name": "ipython",
    "version": 3
   },
   "file_extension": ".py",
   "mimetype": "text/x-python",
   "name": "python",
   "nbconvert_exporter": "python",
   "pygments_lexer": "ipython3",
   "version": "3.8.10"
  }
 },
 "nbformat": 4,
 "nbformat_minor": 5
}

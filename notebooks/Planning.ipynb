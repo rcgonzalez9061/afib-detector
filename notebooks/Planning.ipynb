{
 "cells": [
  {
   "cell_type": "markdown",
   "id": "40e650bf-3964-45c5-aba7-b2a260bbabbf",
   "metadata": {},
   "source": [
    "# Planning"
   ]
  },
  {
   "cell_type": "markdown",
   "id": "cd05fba9-ac45-4776-91cf-98d1737dfade",
   "metadata": {},
   "source": [
    "## EDA:\n",
    "1. Randomly sample 10 5 second samples from each class.\n",
    "2. Perform Freq. Domain transformation\n",
    "3. Plot and analyze (potentially aggregating)\n",
    "4. Overview of data distribution"
   ]
  },
  {
   "cell_type": "markdown",
   "id": "1f369872-43f7-4fb0-be14-5bfc583ee71c",
   "metadata": {},
   "source": [
    "## Model:\n",
    "1. Create dataset sampler\n",
    "    - Sample completely randomly\n",
    "    - Sample a specific label group randomly\n",
    "2. Create CNN Model\n",
    "3. Evaluate\n",
    "\n",
    "## Train-Test-Split Method\n",
    "- Select all occasions with durations longer than 3x the input length.\n",
    "- "
   ]
  },
  {
   "cell_type": "markdown",
   "id": "171b8ba0-fcad-4231-b092-3d477162c073",
   "metadata": {},
   "source": [
    "## Fixing Sampling bias:\n",
    "\n",
    "For each group of labels:\n",
    "    - choose from unique records"
   ]
  },
  {
   "cell_type": "code",
   "execution_count": null,
   "id": "a3d47e33-7d8e-41ef-9b55-bfa9e975657b",
   "metadata": {},
   "outputs": [],
   "source": []
  }
 ],
 "metadata": {
  "kernelspec": {
   "display_name": "Python 3",
   "language": "python",
   "name": "python3"
  },
  "language_info": {
   "codemirror_mode": {
    "name": "ipython",
    "version": 3
   },
   "file_extension": ".py",
   "mimetype": "text/x-python",
   "name": "python",
   "nbconvert_exporter": "python",
   "pygments_lexer": "ipython3",
   "version": "3.8.10"
  }
 },
 "nbformat": 4,
 "nbformat_minor": 5
}
